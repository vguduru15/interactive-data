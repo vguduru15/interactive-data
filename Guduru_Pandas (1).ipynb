{
 "cells": [
  {
   "cell_type": "code",
   "execution_count": 1,
   "id": "318f2493",
   "metadata": {},
   "outputs": [],
   "source": [
    "#importing pandas\n",
    "import pandas as pd"
   ]
  },
  {
   "cell_type": "code",
   "execution_count": 2,
   "id": "e32231e4",
   "metadata": {},
   "outputs": [],
   "source": [
    "\n",
    "# Create a DataFrame with three columns and three rows\n",
    "data={'Dog Breed':['Chihuahua','Poddle','German Shepherd'],\n",
    "      'Size':['Small','Small','Big'],\n",
    "      'LifeSpan':['12-20 years','12-15 years','9-13 years']}"
   ]
  },
  {
   "cell_type": "code",
   "execution_count": 3,
   "id": "28478950",
   "metadata": {},
   "outputs": [],
   "source": [
    "#Converting data to DataFrame\n",
    "df=pd.DataFrame(data)"
   ]
  },
  {
   "cell_type": "code",
   "execution_count": 4,
   "id": "428b7ad2",
   "metadata": {},
   "outputs": [
    {
     "data": {
      "text/html": [
       "<div>\n",
       "<style scoped>\n",
       "    .dataframe tbody tr th:only-of-type {\n",
       "        vertical-align: middle;\n",
       "    }\n",
       "\n",
       "    .dataframe tbody tr th {\n",
       "        vertical-align: top;\n",
       "    }\n",
       "\n",
       "    .dataframe thead th {\n",
       "        text-align: right;\n",
       "    }\n",
       "</style>\n",
       "<table border=\"1\" class=\"dataframe\">\n",
       "  <thead>\n",
       "    <tr style=\"text-align: right;\">\n",
       "      <th></th>\n",
       "      <th>Dog Breed</th>\n",
       "      <th>Size</th>\n",
       "      <th>LifeSpan</th>\n",
       "    </tr>\n",
       "  </thead>\n",
       "  <tbody>\n",
       "    <tr>\n",
       "      <th>0</th>\n",
       "      <td>Chihuahua</td>\n",
       "      <td>Small</td>\n",
       "      <td>12-20 years</td>\n",
       "    </tr>\n",
       "    <tr>\n",
       "      <th>1</th>\n",
       "      <td>Poddle</td>\n",
       "      <td>Small</td>\n",
       "      <td>12-15 years</td>\n",
       "    </tr>\n",
       "    <tr>\n",
       "      <th>2</th>\n",
       "      <td>German Shepherd</td>\n",
       "      <td>Big</td>\n",
       "      <td>9-13 years</td>\n",
       "    </tr>\n",
       "  </tbody>\n",
       "</table>\n",
       "</div>"
      ],
      "text/plain": [
       "         Dog Breed   Size     LifeSpan\n",
       "0        Chihuahua  Small  12-20 years\n",
       "1           Poddle  Small  12-15 years\n",
       "2  German Shepherd    Big   9-13 years"
      ]
     },
     "execution_count": 4,
     "metadata": {},
     "output_type": "execute_result"
    }
   ],
   "source": [
    "# head of the DataFrame\n",
    "df.head()"
   ]
  },
  {
   "cell_type": "code",
   "execution_count": 5,
   "id": "e11e3f1d",
   "metadata": {},
   "outputs": [
    {
     "data": {
      "text/plain": [
       "RangeIndex(start=0, stop=3, step=1)"
      ]
     },
     "execution_count": 5,
     "metadata": {},
     "output_type": "execute_result"
    }
   ],
   "source": [
    "# Index of the DataFrame\n",
    "df.index"
   ]
  },
  {
   "cell_type": "code",
   "execution_count": 6,
   "id": "c397dd82",
   "metadata": {},
   "outputs": [
    {
     "data": {
      "text/plain": [
       "0          Chihuahua\n",
       "1             Poddle\n",
       "2    German Shepherd\n",
       "Name: Dog Breed, dtype: object"
      ]
     },
     "execution_count": 6,
     "metadata": {},
     "output_type": "execute_result"
    }
   ],
   "source": [
    "# The first column of the DataFrame\n",
    "df.iloc[:,0]"
   ]
  },
  {
   "cell_type": "code",
   "execution_count": 7,
   "id": "f4f3eb65",
   "metadata": {},
   "outputs": [
    {
     "data": {
      "text/plain": [
       "Dog Breed      Chihuahua\n",
       "Size               Small\n",
       "LifeSpan     12-20 years\n",
       "Name: 0, dtype: object"
      ]
     },
     "execution_count": 7,
     "metadata": {},
     "output_type": "execute_result"
    }
   ],
   "source": [
    "# The first row of the DataFrame\n",
    "df.loc[0]"
   ]
  },
  {
   "cell_type": "code",
   "execution_count": 8,
   "id": "3344cbba",
   "metadata": {},
   "outputs": [],
   "source": [
    "# Create a DataFrame with three columns and three rows\n",
    "data=[['Chihuahua','Small','12-20 years'],\n",
    "      ['Poddle','Small','12-15 years'],\n",
    "      ['German Shepherd','Small','9-13 years']]"
   ]
  },
  {
   "cell_type": "code",
   "execution_count": 9,
   "id": "0bf0ae39",
   "metadata": {},
   "outputs": [],
   "source": [
    "\n",
    "#data to DataFrame\n",
    "df=pd.DataFrame(data, columns=['Dog Breed','Size','LifeSpan'])"
   ]
  },
  {
   "cell_type": "code",
   "execution_count": 10,
   "id": "43e9399c",
   "metadata": {},
   "outputs": [
    {
     "data": {
      "text/html": [
       "<div>\n",
       "<style scoped>\n",
       "    .dataframe tbody tr th:only-of-type {\n",
       "        vertical-align: middle;\n",
       "    }\n",
       "\n",
       "    .dataframe tbody tr th {\n",
       "        vertical-align: top;\n",
       "    }\n",
       "\n",
       "    .dataframe thead th {\n",
       "        text-align: right;\n",
       "    }\n",
       "</style>\n",
       "<table border=\"1\" class=\"dataframe\">\n",
       "  <thead>\n",
       "    <tr style=\"text-align: right;\">\n",
       "      <th></th>\n",
       "      <th>Dog Breed</th>\n",
       "      <th>Size</th>\n",
       "      <th>LifeSpan</th>\n",
       "    </tr>\n",
       "  </thead>\n",
       "  <tbody>\n",
       "    <tr>\n",
       "      <th>0</th>\n",
       "      <td>Chihuahua</td>\n",
       "      <td>Small</td>\n",
       "      <td>12-20 years</td>\n",
       "    </tr>\n",
       "    <tr>\n",
       "      <th>1</th>\n",
       "      <td>Poddle</td>\n",
       "      <td>Small</td>\n",
       "      <td>12-15 years</td>\n",
       "    </tr>\n",
       "    <tr>\n",
       "      <th>2</th>\n",
       "      <td>German Shepherd</td>\n",
       "      <td>Small</td>\n",
       "      <td>9-13 years</td>\n",
       "    </tr>\n",
       "  </tbody>\n",
       "</table>\n",
       "</div>"
      ],
      "text/plain": [
       "         Dog Breed   Size     LifeSpan\n",
       "0        Chihuahua  Small  12-20 years\n",
       "1           Poddle  Small  12-15 years\n",
       "2  German Shepherd  Small   9-13 years"
      ]
     },
     "execution_count": 10,
     "metadata": {},
     "output_type": "execute_result"
    }
   ],
   "source": [
    "df.head()"
   ]
  },
  {
   "cell_type": "code",
   "execution_count": 11,
   "id": "36f9b2b6",
   "metadata": {},
   "outputs": [],
   "source": [
    "# Write the DataFrame to a new CSV file\n",
    "df.to_csv('dogs.csv', index=False)"
   ]
  },
  {
   "cell_type": "markdown",
   "id": "f3bd7dad",
   "metadata": {},
   "source": [
    "**Question**:<br>\n",
    "What does the \"write/render/evaluate\" loop provide for creators of interactive data visualizations?<br>\n",
    "**Answer**:<br>\n",
    "* Fast Feedback: An iterative design process may be carried out more rapidly and efficiently thanks to the \"write/render/evaluate\" loop, which enables creators to make changes quickly and see instant visual results.\n",
    "\n",
    "* Enhanced Experimentation: By letting designers explore various design options and improve their visualizations in response to in-the-moment user interactions and observations, this loop promotes experimentation.<br>\n",
    "\n",
    "**Question**: <br>\n",
    "Why are dynamic, interactive data visualizations useful when communicating data?<br>\n",
    "**Answer**:<br>\n",
    "Data may be communicated more effectively with dynamic, interactive data visualizations that allow users to customize the information to suit their interests and speed of exploration. Interactive visualizations let users work with the data, filter results, and delve down into specifics, in contrast to static visualizations that only show one view of the data. Users can extract information that are most relevant to them thanks to this interactive, which appeals to a wide range of consumers, including data experts and casual browsers. Interactive visualizations can improve understanding and recall of difficult information by involving people in this way.<br>\n",
    "Moreover, multidimensional data that would be difficult to portray in a static format can be efficiently communicated through dynamic visualizations. To help demonstrate changes over time or highlight relationships between various data points, they can use animations, transitions, and responsive elements. This feature not only increases the data's visual appeal but also helps to highlight patterns and trends that could otherwise go undetected in a conventional chart or graph. In the end, adding interactive components makes data communication more participative and encourages deeper understanding by transforming it from a one-way display.<br>\n",
    "\n",
    "**Question**: <br>\n",
    "Do you agree with Murray's claim that open-source tools that avoid proprietary software are best for publishing data visualization? In a few sentences, explain why you do or do not agree.<br>\n",
    "**Answer**:<br>\n",
    "1. Flexibility and Accessibility: Murray makes the case that open-source technologies facilitate both flexibility and accessibility, which makes them advantageous for releasing data visualizations. I agree. Without the requirement for pricey licenses, anybody may use these tools, enabling a wider spectrum of producers to create and distribute their visualizations across several platforms and devices.\n",
    "\n",
    "2. Limitations of Proprietary Software: Nevertheless, I also acknowledge that proprietary software can improve development processes by providing cutting-edge functionality, intuitive user interfaces, and committed support. For complicated visualizations, these technologies can offer improved integration with other programs and optimized performance in certain situations. As a result, the ideal option will vary depending on the particular requirements and project circumstances.<br>\n",
    "\n"
   ]
  },
  {
   "cell_type": "code",
   "execution_count": null,
   "id": "48e09eb8",
   "metadata": {},
   "outputs": [],
   "source": []
  }
 ],
 "metadata": {
  "kernelspec": {
   "display_name": "Python 3 (ipykernel)",
   "language": "python",
   "name": "python3"
  },
  "language_info": {
   "codemirror_mode": {
    "name": "ipython",
    "version": 3
   },
   "file_extension": ".py",
   "mimetype": "text/x-python",
   "name": "python",
   "nbconvert_exporter": "python",
   "pygments_lexer": "ipython3",
   "version": "3.10.13"
  }
 },
 "nbformat": 4,
 "nbformat_minor": 5
}
